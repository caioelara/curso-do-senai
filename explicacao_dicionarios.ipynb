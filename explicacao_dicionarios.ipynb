{
 "cells": [
  {
   "cell_type": "markdown",
   "id": "24fa5b17",
   "metadata": {},
   "source": [
    "# Dicionários"
   ]
  },
  {
   "cell_type": "markdown",
   "id": "6f47ffca",
   "metadata": {},
   "source": [
    "## O que são dicionários em Python?\n",
    "Um dicionário em Python é como uma caixa de perguntas e respostas.\n",
    "Cada informação é guardada com uma chave (pergunta) e um valor (resposta).\n",
    "\n",
    "Em vez de acessar as coisas por número (como nas listas), a gente acessa pelo nome da chave."
   ]
  },
  {
   "cell_type": "markdown",
   "id": "dd692238",
   "metadata": {},
   "source": [
    "✅ Exemplo da vida real:\n",
    "Imagine um contato de celular:\n"
   ]
  },
  {
   "cell_type": "markdown",
   "id": "3bbaab79",
   "metadata": {},
   "source": [
    "| Chave    | Valor     |\n",
    "| -------- | --------- |\n",
    "| Nome     | Ana       |\n",
    "| Telefone | 1234-5678 |\n",
    "| Cidade   | São Paulo |\n"
   ]
  },
  {
   "cell_type": "markdown",
   "id": "a638457a",
   "metadata": {},
   "source": [
    "Para criar um dicionário utilizamos { }\n",
    "Sintaxe para criar um dicionário:\n",
    "\n",
    "nome_do_dicionario: {<br>\n",
    "    'chave' : valor<br>\n",
    "}\n"
   ]
  },
  {
   "cell_type": "code",
   "execution_count": null,
   "id": "fd78f388",
   "metadata": {},
   "outputs": [],
   "source": [
    "dicionario = {}"
   ]
  },
  {
   "cell_type": "code",
   "execution_count": null,
   "id": "12f301d4",
   "metadata": {},
   "outputs": [],
   "source": [
    "type(dicionario)"
   ]
  },
  {
   "cell_type": "code",
   "execution_count": null,
   "id": "61bf4f27",
   "metadata": {},
   "outputs": [],
   "source": [
    "contato = {\n",
    "    'nome': 'Ana',\n",
    "    'telefone': '1234-5678',\n",
    "    'cidade': 'São Paulo'\n",
    "}\n"
   ]
  },
  {
   "cell_type": "markdown",
   "id": "036ba2a3",
   "metadata": {},
   "source": [
    "Como acessar os valores:\n",
    "\n",
    "Se eu quiser o telefone da Ana:"
   ]
  },
  {
   "cell_type": "code",
   "execution_count": 5,
   "id": "7a257b71",
   "metadata": {},
   "outputs": [
    {
     "name": "stdout",
     "output_type": "stream",
     "text": [
      "1234-5678\n"
     ]
    }
   ],
   "source": [
    "print(contato['telefone'])\n"
   ]
  },
  {
   "cell_type": "markdown",
   "id": "35738fd0",
   "metadata": {},
   "source": [
    "✅ Mini exemplo com várias operações:"
   ]
  },
  {
   "cell_type": "code",
   "execution_count": 6,
   "id": "ed0d8a38",
   "metadata": {},
   "outputs": [
    {
     "name": "stdout",
     "output_type": "stream",
     "text": [
      "Lucas\n",
      "{'nome': 'Lucas', 'idade': 17, 'nota': 8.5, 'escola': 'Senai'}\n"
     ]
    }
   ],
   "source": [
    "aluno = {\n",
    "    'nome': 'Lucas',\n",
    "    'idade': 16,\n",
    "    'nota': 8.5\n",
    "}\n",
    "\n",
    "print(aluno['nome'])        # Lucas\n",
    "aluno['idade'] = 17          # Alterando o valor\n",
    "aluno['escola'] = 'Senai'    # Adicionando uma nova chave\n",
    "print(aluno)\n"
   ]
  },
  {
   "cell_type": "markdown",
   "id": "9dc432e8",
   "metadata": {},
   "source": [
    "✅ Pensamento fácil para decorar:\n",
    "| Conceito   | Exemplo de comparação |\n",
    "| ---------- | --------------------- |\n",
    "| Lista      | Gavetas numeradas     |\n",
    "| Dicionário | Etiquetas com nomes   |\n"
   ]
  },
  {
   "cell_type": "markdown",
   "id": "c5ec7432",
   "metadata": {},
   "source": [
    "📋 Principais Métodos de Dicionários em Python"
   ]
  },
  {
   "cell_type": "markdown",
   "id": "8a425c4f",
   "metadata": {},
   "source": [
    "| Método          | O que faz                                                                       | Exemplo                               | Resultado                                      |\n",
    "| --------------- | ------------------------------------------------------------------------------- | ------------------------------------- | ---------------------------------------------- |\n",
    "| `.keys()`       | Retorna todas as **chaves** do dicionário                                       | `d.keys()`                            | `dict_keys(['nome', 'idade'])`                 |\n",
    "| `.values()`     | Retorna todos os **valores**                                                    | `d.values()`                          | `dict_values(['Ana', 20])`                     |\n",
    "| `.items()`      | Retorna **pares de chave e valor** (tuplas)                                     | `d.items()`                           | `dict_items([('nome', 'Ana'), ('idade', 20)])` |\n",
    "| `.get()`        | Retorna o valor de uma chave, mas **não dá erro se ela não existir**            | `d.get('nome')` / `d.get('endereço')` | `'Ana'` / `None`                               |\n",
    "| `.update()`     | Atualiza o dicionário com **outras chaves/valores**                             | `d.update({'idade': 21})`             | Atualiza o valor de `'idade'`                  |\n",
    "| `.pop()`        | Remove e retorna o **valor de uma chave**                                       | `d.pop('idade')`                      | `20`, e a chave `'idade'` some                 |\n",
    "| `.popitem()`    | Remove e retorna o **último item adicionado**                                   | `d.popitem()`                         | Ex: `('idade', 20)`                            |\n",
    "| `.clear()`      | Apaga **todos os itens** do dicionário                                          | `d.clear()`                           | Fica `{}` (dicionário vazio)                   |\n",
    "| `.setdefault()` | Retorna o valor de uma chave, e **cria ela com um valor padrão se não existir** | `d.setdefault('cidade', 'SP')`        | Se não existir, cria `'cidade': 'SP'`          |\n",
    "| `.copy()`       | Faz uma **cópia** do dicionário                                                 | `copia = d.copy()`                    | `copia` igual ao original                      |\n"
   ]
  },
  {
   "cell_type": "markdown",
   "id": "6b8828ef",
   "metadata": {},
   "source": [
    "# Exercícios"
   ]
  },
  {
   "cell_type": "markdown",
   "id": "d8c6a82d",
   "metadata": {},
   "source": [
    "## Exercício 1 – Criando um dicionário\n",
    "\n",
    "Crie um dicionário chamado aluno com as seguintes informações:\n",
    "\n",
    "- Nome: João\n",
    "\n",
    "- Idade: 17\n",
    "\n",
    "- Nota final: 8.5\n",
    "\n",
    "Depois, use o comando print() para mostrar o dicionário."
   ]
  },
  {
   "cell_type": "code",
   "execution_count": 8,
   "id": "30d8fdb0",
   "metadata": {},
   "outputs": [
    {
     "name": "stdout",
     "output_type": "stream",
     "text": [
      "{'Nome': 'caio', 'Idade': 18, 'Nota final': 6.5}\n"
     ]
    }
   ],
   "source": [
    "aluno = {\n",
    "    'Nome':'caio',\n",
    "    'Idade':18,\n",
    "    'Nota final': 6.5\n",
    "}\n",
    "print(aluno)"
   ]
  },
  {
   "cell_type": "code",
   "execution_count": null,
   "id": "15c6d5d8",
   "metadata": {},
   "outputs": [],
   "source": []
  },
  {
   "cell_type": "markdown",
   "id": "aa7936f8",
   "metadata": {},
   "source": [
    "## Exercício 2 – Acessando valores\n",
    "Usando o dicionário do exercício anterior, imprima apenas o nome e a nota final do aluno."
   ]
  },
  {
   "cell_type": "code",
   "execution_count": 15,
   "id": "eb71ca81",
   "metadata": {},
   "outputs": [
    {
     "name": "stdout",
     "output_type": "stream",
     "text": [
      "caio 6.5\n"
     ]
    }
   ],
   "source": [
    "print(aluno['Nome'],aluno['Nota final'])"
   ]
  },
  {
   "cell_type": "code",
   "execution_count": null,
   "id": "1abeaf19",
   "metadata": {},
   "outputs": [],
   "source": []
  },
  {
   "cell_type": "markdown",
   "id": "d81ecacd",
   "metadata": {},
   "source": [
    "## Exercício 3 – Adicionando uma nova informação\n",
    "Adicione ao dicionário aluno uma nova chave chamada 'aprovado' com o valor True.\n",
    "Depois, imprima o dicionário atualizado."
   ]
  },
  {
   "cell_type": "code",
   "execution_count": 16,
   "id": "eaaa5fa2",
   "metadata": {},
   "outputs": [
    {
     "name": "stdout",
     "output_type": "stream",
     "text": [
      "{'Nome': 'caio', 'Idade': 18, 'Nota final': 6.5, 'aprovado': True}\n"
     ]
    }
   ],
   "source": [
    "aluno['aprovado']=True\n",
    "print(aluno)"
   ]
  },
  {
   "cell_type": "code",
   "execution_count": null,
   "id": "d4ecabb5",
   "metadata": {},
   "outputs": [],
   "source": []
  },
  {
   "cell_type": "markdown",
   "id": "dbc9b54f",
   "metadata": {},
   "source": [
    "## Exercício 4 – Alterando valores\n",
    "Mude a idade do aluno para 18 anos.\n",
    "Em seguida, imprima o dicionário para conferir a alteração."
   ]
  },
  {
   "cell_type": "code",
   "execution_count": 17,
   "id": "33bc710e",
   "metadata": {},
   "outputs": [
    {
     "name": "stdout",
     "output_type": "stream",
     "text": [
      "{'Nome': 'caio', 'Idade': 19, 'Nota final': 6.5, 'aprovado': True}\n"
     ]
    }
   ],
   "source": [
    "aluno['Idade']=19\n",
    "print(aluno)"
   ]
  },
  {
   "cell_type": "code",
   "execution_count": null,
   "id": "1417ffdf",
   "metadata": {},
   "outputs": [],
   "source": []
  },
  {
   "cell_type": "markdown",
   "id": "b3ecc8d0",
   "metadata": {},
   "source": [
    "## Exercício 5 – Removendo um item\n",
    "Remova a chave 'nota final' do dicionário.\n",
    "Depois, imprima o dicionário para ver o resultado."
   ]
  },
  {
   "cell_type": "code",
   "execution_count": 7,
   "id": "45087ad5",
   "metadata": {},
   "outputs": [
    {
     "ename": "NameError",
     "evalue": "name 'aluno' is not defined",
     "output_type": "error",
     "traceback": [
      "\u001b[31m---------------------------------------------------------------------------\u001b[39m",
      "\u001b[31mNameError\u001b[39m                                 Traceback (most recent call last)",
      "\u001b[36mCell\u001b[39m\u001b[36m \u001b[39m\u001b[32mIn[7]\u001b[39m\u001b[32m, line 1\u001b[39m\n\u001b[32m----> \u001b[39m\u001b[32m1\u001b[39m \u001b[43maluno\u001b[49m.pop(\u001b[33m'\u001b[39m\u001b[33mNota final\u001b[39m\u001b[33m'\u001b[39m)\n\u001b[32m      2\u001b[39m \u001b[38;5;28mprint\u001b[39m(aluno)\n",
      "\u001b[31mNameError\u001b[39m: name 'aluno' is not defined"
     ]
    }
   ],
   "source": [
    "aluno.pop('Nota final')\n",
    "print(aluno)"
   ]
  },
  {
   "cell_type": "code",
   "execution_count": null,
   "id": "167e47ce",
   "metadata": {},
   "outputs": [],
   "source": []
  },
  {
   "cell_type": "markdown",
   "id": "5b0ad703",
   "metadata": {},
   "source": [
    "## Exercício 6 – Usando .get()\n",
    "Tente acessar a chave 'cidade' usando o método .get().\n",
    "Qual é o resultado? Por que o Python não dá erro?\n",
    "\n"
   ]
  },
  {
   "cell_type": "code",
   "execution_count": null,
   "id": "0e1955b8",
   "metadata": {},
   "outputs": [],
   "source": []
  },
  {
   "cell_type": "code",
   "execution_count": null,
   "id": "d176b8dd",
   "metadata": {},
   "outputs": [],
   "source": []
  },
  {
   "cell_type": "markdown",
   "id": "423279b0",
   "metadata": {},
   "source": [
    "## Exercício 7 – Mostrando todas as chaves e valores\n",
    "Mostre separadamente:\n",
    "\n",
    "Todas as chaves do dicionário\n",
    "\n",
    "Todos os valores do dicionário\n",
    "\n",
    "Todos os pares chave-valor\n",
    "\n",
    "Dica: use os métodos .keys(), .values() e .items()."
   ]
  },
  {
   "cell_type": "code",
   "execution_count": null,
   "id": "c9003412",
   "metadata": {},
   "outputs": [],
   "source": []
  },
  {
   "cell_type": "code",
   "execution_count": null,
   "id": "94973ac1",
   "metadata": {},
   "outputs": [],
   "source": []
  },
  {
   "cell_type": "markdown",
   "id": "eac7d628",
   "metadata": {},
   "source": [
    "## Exercício 8 – Dicionário de listas\n",
    "Crie um dicionário chamado turma com duas chaves:\n",
    "\n",
    "'nomes': contendo uma lista com 3 nomes de alunos\n",
    "\n",
    "'notas': contendo uma lista com 3 notas (uma para cada aluno)\n",
    "\n",
    "Depois, imprima a média das notas da turma."
   ]
  },
  {
   "cell_type": "code",
   "execution_count": null,
   "id": "0730590f",
   "metadata": {},
   "outputs": [],
   "source": []
  },
  {
   "cell_type": "code",
   "execution_count": null,
   "id": "2b6d819b",
   "metadata": {},
   "outputs": [],
   "source": []
  },
  {
   "cell_type": "code",
   "execution_count": null,
   "id": "5b6eaf2f",
   "metadata": {},
   "outputs": [],
   "source": []
  }
 ],
 "metadata": {
  "kernelspec": {
   "display_name": "Python 3",
   "language": "python",
   "name": "python3"
  },
  "language_info": {
   "codemirror_mode": {
    "name": "ipython",
    "version": 3
   },
   "file_extension": ".py",
   "mimetype": "text/x-python",
   "name": "python",
   "nbconvert_exporter": "python",
   "pygments_lexer": "ipython3",
   "version": "3.13.2"
  }
 },
 "nbformat": 4,
 "nbformat_minor": 5
}
